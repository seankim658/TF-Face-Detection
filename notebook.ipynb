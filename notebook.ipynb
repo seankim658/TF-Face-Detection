{
 "cells": [
  {
   "cell_type": "code",
   "execution_count": 1,
   "metadata": {},
   "outputs": [],
   "source": [
    "import os \n",
    "import time \n",
    "import uuid \n",
    "import cv2\n",
    "import json \n",
    "import numpy as np\n",
    "from matplotlib import pyplot as plt\n",
    "import albumentations as A\n",
    "import tensorflow as tf \n",
    "from tensorflow.keras.models import Model \n",
    "from tensorflow.keras.layers import Input, Conv2D, Dense, GlobalMaxPooling2D\n",
    "from tensorflow.keras.applications import VGG16"
   ]
  },
  {
   "cell_type": "code",
   "execution_count": 2,
   "metadata": {},
   "outputs": [
    {
     "name": "stdout",
     "output_type": "stream",
     "text": [
      "Tf build info:\n",
      "OrderedDict([('cpu_compiler', 'C:/Program Files (x86)/Microsoft Visual Studio/2019/Community/VC/Tools/MSVC/14.29.30133/bin/HostX64/x64/cl.exe'), ('cuda_compute_capabilities', ['sm_35', 'sm_50', 'sm_60', 'sm_70', 'sm_75', 'compute_80']), ('cuda_version', '64_112'), ('cudart_dll_name', 'cudart64_112.dll'), ('cudnn_dll_name', 'cudnn64_8.dll'), ('cudnn_version', '64_8'), ('is_cuda_build', True), ('is_rocm_build', False), ('is_tensorrt_build', False), ('msvcp_dll_names', 'msvcp140.dll,msvcp140_1.dll'), ('nvcuda_dll_name', 'nvcuda.dll')])\n",
      "\n",
      "Device list: [PhysicalDevice(name='/physical_device:CPU:0', device_type='CPU'), PhysicalDevice(name='/physical_device:GPU:0', device_type='GPU')]\n",
      "\n",
      "GPU device name: /device:GPU:0\n",
      "Tf built with cuda: True\n"
     ]
    }
   ],
   "source": [
    "# check gpu availability \n",
    "import tensorflow.python.platform.build_info as build\n",
    "print(f'Tf build info:\\n{build.build_info}\\n')\n",
    "print(f'Device list: {tf.config.list_physical_devices()}\\n')\n",
    "print(f'GPU device name: {tf.test.gpu_device_name()}')\n",
    "print(f'Tf built with cuda: {tf.test.is_built_with_cuda()}')"
   ]
  },
  {
   "attachments": {},
   "cell_type": "markdown",
   "metadata": {},
   "source": [
    "# Collecting Images"
   ]
  },
  {
   "cell_type": "code",
   "execution_count": 3,
   "metadata": {},
   "outputs": [],
   "source": [
    "# FIRST TIME RUN ONLY\n",
    "IMAGES_PATH = os.path.join('data', 'images')\n",
    "# total images: 120\n",
    "NUM_IMGS = 20"
   ]
  },
  {
   "attachments": {},
   "cell_type": "markdown",
   "metadata": {},
   "source": [
    "Capture images in batches of 20 using the laptop's webcam. Images are named using `uuid` and then saved to the images folder.  "
   ]
  },
  {
   "cell_type": "code",
   "execution_count": 4,
   "metadata": {},
   "outputs": [],
   "source": [
    "# FIRST TIME RUN ONLY\n",
    "capture = cv2.VideoCapture(0)\n",
    "for img_idx in range(NUM_IMGS):\n",
    "    ret, frame = capture.read() \n",
    "    img_name = os.path.join(IMAGES_PATH, f'{str(uuid.uuid1())}.jpg')\n",
    "    cv2.imwrite(img_name, frame)\n",
    "    cv2.imshow('frame', frame)\n",
    "    time.sleep(0.5)\n",
    "\n",
    "    if cv2.waitKey(1) & 0xFF == ord('q'):\n",
    "        break\n",
    "\n",
    "capture.release()\n",
    "cv2.destroyAllWindows()"
   ]
  },
  {
   "attachments": {},
   "cell_type": "markdown",
   "metadata": {},
   "source": [
    "Annotate images using LabelMe."
   ]
  },
  {
   "cell_type": "code",
   "execution_count": 10,
   "metadata": {},
   "outputs": [],
   "source": [
    "# FIRST TIME RUN ONLY\n",
    "!labelme "
   ]
  },
  {
   "attachments": {},
   "cell_type": "markdown",
   "metadata": {},
   "source": [
    "# Limit GPU Memory Growth"
   ]
  },
  {
   "cell_type": "code",
   "execution_count": 3,
   "metadata": {},
   "outputs": [],
   "source": [
    "for gpu in tf.config.experimental.list_physical_devices('GPU'):\n",
    "    tf.config.experimental.set_memory_growth(gpu, True)"
   ]
  },
  {
   "attachments": {},
   "cell_type": "markdown",
   "metadata": {},
   "source": [
    "# Build and Review Dataset"
   ]
  },
  {
   "attachments": {},
   "cell_type": "markdown",
   "metadata": {},
   "source": [
    "Move images into train, val, and test folders. "
   ]
  },
  {
   "cell_type": "code",
   "execution_count": 4,
   "metadata": {},
   "outputs": [],
   "source": [
    "folders = ['train', 'val', 'test']"
   ]
  },
  {
   "cell_type": "code",
   "execution_count": 24,
   "metadata": {},
   "outputs": [
    {
     "name": "stdout",
     "output_type": "stream",
     "text": [
      "Num files: 140\n",
      "Train size: 98.0\n",
      "Val size: 21.0\n",
      "Test size: 21.0\n"
     ]
    }
   ],
   "source": [
    "# FIRST TIME RUN ONLY\n",
    "# partition percentages \n",
    "TRAIN_SIZE = 0.7\n",
    "VAL_SIZE = 0.15\n",
    "TEST_SIZE = 0.15\n",
    "\n",
    "files = [f for f in os.listdir(os.path.join('data', 'images')) if os.path.isfile(os.path.join('data', 'images', f))]\n",
    "num_files = len(files)\n",
    "train_num = num_files * TRAIN_SIZE\n",
    "val_num = num_files * VAL_SIZE\n",
    "test_num = num_files * VAL_SIZE\n",
    "\n",
    "print(f'Num files: {num_files}')\n",
    "print(f'Train size: {train_num}')\n",
    "print(f'Val size: {val_num}')\n",
    "print(f'Test size: {test_num}')"
   ]
  },
  {
   "cell_type": "code",
   "execution_count": 93,
   "metadata": {},
   "outputs": [],
   "source": [
    "# FIRST TIME RUN ONLY\n",
    "# target folders \n",
    "partitions = {folders[0]: 0, folders[1]: 0, folders[2]: 0}\n",
    "file_idx = 0\n",
    "\n",
    "while file_idx < num_files:\n",
    "\n",
    "    file = files[file_idx]\n",
    "    dest_folder = np.random.choice(a = folders, size = 1, p = [TRAIN_SIZE, VAL_SIZE, TEST_SIZE])[0]\n",
    "    curr_file_path = os.path.join('data', 'images', file)\n",
    "    new_file_path = os.path.join('data', 'images', dest_folder, file)\n",
    "\n",
    "    if dest_folder == 'train':\n",
    "        if partitions[dest_folder] < train_num:\n",
    "            os.replace(curr_file_path, new_file_path)\n",
    "            partitions[dest_folder] += 1\n",
    "        else:\n",
    "            continue \n",
    "\n",
    "    elif dest_folder == 'val': \n",
    "        if partitions[dest_folder] < val_num:\n",
    "            os.replace(curr_file_path, new_file_path)\n",
    "            partitions[dest_folder] += 1\n",
    "        else:\n",
    "            continue\n",
    "    \n",
    "    elif dest_folder == 'test':\n",
    "        if partitions[dest_folder] < test_num:\n",
    "            os.replace(curr_file_path, new_file_path)\n",
    "            partitions[dest_folder] += 1\n",
    "        else:\n",
    "            continue \n",
    "    \n",
    "    file_idx += 1"
   ]
  },
  {
   "attachments": {},
   "cell_type": "markdown",
   "metadata": {},
   "source": [
    "Move matching label files into the correct train, val, and test folders. "
   ]
  },
  {
   "cell_type": "code",
   "execution_count": 94,
   "metadata": {},
   "outputs": [],
   "source": [
    "# FIRST TIME RUN ONLY\n",
    "for folder in folders:\n",
    "    for file in os.listdir(os.path.join('data', 'images', folder)):\n",
    "        label_filename = file.split('.')[0] + '.json' \n",
    "        curr_file_path = os.path.join('data', 'labels', label_filename)\n",
    "        if os.path.exists(curr_file_path):\n",
    "            new_file_path = os.path.join('data', 'labels', folder, label_filename)\n",
    "            os.replace(curr_file_path, new_file_path)"
   ]
  },
  {
   "attachments": {},
   "cell_type": "markdown",
   "metadata": {},
   "source": [
    "# Albumentations "
   ]
  },
  {
   "cell_type": "code",
   "execution_count": 5,
   "metadata": {},
   "outputs": [],
   "source": [
    "# FIRST TIME RUN ONLY\n",
    "transformer = A.Compose([\n",
    "    A.RandomCrop(width = 450, height = 450),\n",
    "    A.HorizontalFlip(p = 0.5),\n",
    "    A.RandomBrightnessContrast(p = 0.2),\n",
    "    A.RandomGamma(p = 0.2),\n",
    "    A.RGBShift(p = 0.2),\n",
    "    A.VerticalFlip(p = 0.5)], \n",
    "    bbox_params = A.BboxParams(format = 'albumentations', label_fields = ['class_labels'])\n",
    ")"
   ]
  },
  {
   "attachments": {},
   "cell_type": "markdown",
   "metadata": {},
   "source": [
    "## Test that the albumentations compose transformer works with one of the training images."
   ]
  },
  {
   "cell_type": "code",
   "execution_count": 101,
   "metadata": {},
   "outputs": [
    {
     "data": {
      "text/plain": [
       "array([[[129,  79,  73],\n",
       "        [128,  78,  72],\n",
       "        [129,  77,  71],\n",
       "        ...,\n",
       "        [123, 137, 136],\n",
       "        [124, 136, 136],\n",
       "        [124, 136, 136]],\n",
       "\n",
       "       [[128,  78,  72],\n",
       "        [128,  78,  72],\n",
       "        [129,  77,  71],\n",
       "        ...,\n",
       "        [123, 137, 136],\n",
       "        [124, 136, 136],\n",
       "        [124, 136, 136]],\n",
       "\n",
       "       [[128,  78,  72],\n",
       "        [127,  77,  71],\n",
       "        [130,  78,  71],\n",
       "        ...,\n",
       "        [124, 136, 136],\n",
       "        [124, 136, 136],\n",
       "        [124, 136, 136]],\n",
       "\n",
       "       ...,\n",
       "\n",
       "       [[ 61,  63,  64],\n",
       "        [ 62,  64,  65],\n",
       "        [ 62,  64,  65],\n",
       "        ...,\n",
       "        [ 94, 103, 117],\n",
       "        [ 94, 103, 117],\n",
       "        [ 94, 103, 117]],\n",
       "\n",
       "       [[ 63,  62,  64],\n",
       "        [ 63,  62,  64],\n",
       "        [ 64,  63,  65],\n",
       "        ...,\n",
       "        [ 93, 102, 115],\n",
       "        [ 94, 103, 117],\n",
       "        [ 93, 102, 116]],\n",
       "\n",
       "       [[ 63,  62,  64],\n",
       "        [ 63,  62,  64],\n",
       "        [ 63,  62,  64],\n",
       "        ...,\n",
       "        [ 93, 102, 115],\n",
       "        [ 93, 102, 116],\n",
       "        [ 92, 101, 115]]], dtype=uint8)"
      ]
     },
     "execution_count": 101,
     "metadata": {},
     "output_type": "execute_result"
    }
   ],
   "source": [
    "tmp_img = cv2.imread(os.path.join('data', 'images', 'train', '01ed877a-9c62-11ed-9939-8cb87e8f1316.jpg'))\n",
    "tmp_img"
   ]
  },
  {
   "cell_type": "code",
   "execution_count": 102,
   "metadata": {},
   "outputs": [
    {
     "data": {
      "text/plain": [
       "{'version': '5.1.1',\n",
       " 'flags': {},\n",
       " 'shapes': [{'label': 'face',\n",
       "   'points': [[238.4065934065934, 188.62637362637363],\n",
       "    [404.34065934065933, 395.7692307692308]],\n",
       "   'group_id': None,\n",
       "   'shape_type': 'rectangle',\n",
       "   'flags': {}}],\n",
       " 'imagePath': '..\\\\images\\\\01ed877a-9c62-11ed-9939-8cb87e8f1316.jpg',\n",
       " 'imageData': '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',\n",
       " 'imageHeight': 480,\n",
       " 'imageWidth': 640}"
      ]
     },
     "execution_count": 102,
     "metadata": {},
     "output_type": "execute_result"
    }
   ],
   "source": [
    "with open(os.path.join('data', 'labels', 'train', '01ed877a-9c62-11ed-9939-8cb87e8f1316.json'), 'r') as f:\n",
    "    tmp_label = json.load(f)\n",
    "tmp_label"
   ]
  },
  {
   "cell_type": "code",
   "execution_count": 107,
   "metadata": {},
   "outputs": [
    {
     "data": {
      "text/plain": [
       "'face'"
      ]
     },
     "execution_count": 107,
     "metadata": {},
     "output_type": "execute_result"
    }
   ],
   "source": [
    "tmp_label['shapes'][0]['label']"
   ]
  },
  {
   "cell_type": "code",
   "execution_count": 104,
   "metadata": {},
   "outputs": [
    {
     "data": {
      "text/plain": [
       "[[238.4065934065934, 188.62637362637363],\n",
       " [404.34065934065933, 395.7692307692308]]"
      ]
     },
     "execution_count": 104,
     "metadata": {},
     "output_type": "execute_result"
    }
   ],
   "source": [
    "coords = tmp_label['shapes'][0]['points']\n",
    "coords"
   ]
  },
  {
   "cell_type": "code",
   "execution_count": 105,
   "metadata": {},
   "outputs": [
    {
     "data": {
      "text/plain": [
       "[238.4065934065934, 188.62637362637363, 404.34065934065933, 395.7692307692308]"
      ]
     },
     "execution_count": 105,
     "metadata": {},
     "output_type": "execute_result"
    }
   ],
   "source": [
    "tmp_bbox = [\n",
    "    coords[0][0], \n",
    "    coords[0][1], \n",
    "    coords[1][0], \n",
    "    coords[1][1]\n",
    "]\n",
    "tmp_bbox"
   ]
  },
  {
   "cell_type": "code",
   "execution_count": 106,
   "metadata": {},
   "outputs": [
    {
     "data": {
      "text/plain": [
       "[0.3725103021978022,\n",
       " 0.3929716117216117,\n",
       " 0.6317822802197802,\n",
       " 0.8245192307692307]"
      ]
     },
     "execution_count": 106,
     "metadata": {},
     "output_type": "execute_result"
    }
   ],
   "source": [
    "tmp_bbox = list(np.divide(tmp_bbox, [640, 480, 640, 480]))\n",
    "tmp_bbox"
   ]
  },
  {
   "cell_type": "code",
   "execution_count": 117,
   "metadata": {},
   "outputs": [
    {
     "data": {
      "text/plain": [
       "2"
      ]
     },
     "execution_count": 117,
     "metadata": {},
     "output_type": "execute_result"
    }
   ],
   "source": [
    "len(coords)"
   ]
  },
  {
   "cell_type": "code",
   "execution_count": 133,
   "metadata": {},
   "outputs": [],
   "source": [
    "tmp_transformed = transformer(image = tmp_img, bboxes = [tmp_bbox], class_labels = [tmp_label['shapes'][0]['label']])"
   ]
  },
  {
   "cell_type": "code",
   "execution_count": 134,
   "metadata": {},
   "outputs": [
    {
     "data": {
      "text/plain": [
       "array([[[158, 174, 173],\n",
       "        [158, 174, 173],\n",
       "        [158, 174, 173],\n",
       "        ...,\n",
       "        [137,  79,  67],\n",
       "        [135,  80,  67],\n",
       "        [136,  81,  68]],\n",
       "\n",
       "       [[158, 174, 173],\n",
       "        [158, 174, 173],\n",
       "        [158, 174, 173],\n",
       "        ...,\n",
       "        [138,  80,  68],\n",
       "        [136,  80,  69],\n",
       "        [136,  80,  69]],\n",
       "\n",
       "       [[158, 174, 173],\n",
       "        [158, 174, 173],\n",
       "        [158, 174, 173],\n",
       "        ...,\n",
       "        [138,  80,  68],\n",
       "        [136,  80,  69],\n",
       "        [136,  80,  69]],\n",
       "\n",
       "       ...,\n",
       "\n",
       "       [[ 43,  39,  51],\n",
       "        [ 43,  39,  51],\n",
       "        [ 45,  39,  50],\n",
       "        ...,\n",
       "        [ 66,  77,  75],\n",
       "        [ 66,  77,  75],\n",
       "        [ 65,  76,  74]],\n",
       "\n",
       "       [[ 43,  39,  51],\n",
       "        [ 43,  39,  51],\n",
       "        [ 46,  40,  51],\n",
       "        ...,\n",
       "        [ 66,  77,  75],\n",
       "        [ 65,  76,  74],\n",
       "        [ 64,  75,  73]],\n",
       "\n",
       "       [[ 43,  39,  50],\n",
       "        [ 44,  40,  51],\n",
       "        [ 44,  40,  51],\n",
       "        ...,\n",
       "        [ 66,  77,  75],\n",
       "        [ 65,  76,  74],\n",
       "        [ 64,  75,  73]]], dtype=uint8)"
      ]
     },
     "execution_count": 134,
     "metadata": {},
     "output_type": "execute_result"
    }
   ],
   "source": [
    "tmp_transformed['image']"
   ]
  },
  {
   "cell_type": "code",
   "execution_count": 135,
   "metadata": {},
   "outputs": [
    {
     "data": {
      "text/plain": [
       "1"
      ]
     },
     "execution_count": 135,
     "metadata": {},
     "output_type": "execute_result"
    }
   ],
   "source": [
    "len(tmp_transformed['bboxes'])"
   ]
  },
  {
   "cell_type": "code",
   "execution_count": 137,
   "metadata": {},
   "outputs": [
    {
     "data": {
      "text/plain": [
       "[(0.14146520146520147,\n",
       "  0.38139194139194144,\n",
       "  0.5102075702075702,\n",
       "  0.8417094017094017)]"
      ]
     },
     "execution_count": 137,
     "metadata": {},
     "output_type": "execute_result"
    }
   ],
   "source": [
    "tmp_transformed['bboxes']"
   ]
  },
  {
   "cell_type": "code",
   "execution_count": 115,
   "metadata": {},
   "outputs": [
    {
     "data": {
      "text/plain": [
       "<matplotlib.image.AxesImage at 0x23700383370>"
      ]
     },
     "execution_count": 115,
     "metadata": {},
     "output_type": "execute_result"
    },
    {
     "data": {
      "image/png": "[encoded data removed]",
      "text/plain": [
       "<Figure size 432x288 with 1 Axes>"
      ]
     },
     "metadata": {
      "needs_background": "light"
     },
     "output_type": "display_data"
    }
   ],
   "source": [
    "cv2.rectangle(\n",
    "    tmp_transformed['image'],\n",
    "    tuple(np.multiply(tmp_transformed['bboxes'][0][:2], [450, 450]).astype(int)),\n",
    "    tuple(np.multiply(tmp_transformed['bboxes'][0][2:], [450, 450]).astype(int)),\n",
    "    (255, 0, 0),\n",
    "    2\n",
    ")\n",
    "plt.imshow(tmp_transformed['image'])"
   ]
  },
  {
   "attachments": {},
   "cell_type": "markdown",
   "metadata": {},
   "source": [
    "# Build Albumentation Compose Pipeline"
   ]
  },
  {
   "cell_type": "code",
   "execution_count": 8,
   "metadata": {},
   "outputs": [],
   "source": [
    "# FIRST TIME RUN ONLY\n",
    "# how many augmented images to create based off each base image \n",
    "IMAGE_PER_BASE_IMAGE = 50\n",
    "\n",
    "# loop through each data partition \n",
    "for folder in folders:\n",
    "    for image in os.listdir(os.path.join('data', 'images', folder)):\n",
    "        \n",
    "        curr_img = cv2.imread(os.path.join('data', 'images', folder, image))\n",
    "\n",
    "        bbox_coords = [0, 0, 0.00001, 0.00001]\n",
    "        label_path = os.path.join('data', 'labels', folder, f'{image.split(\".\")[0]}.json')\n",
    "\n",
    "        # check if label exists (some images don't have labels)\n",
    "        if os.path.exists(label_path):\n",
    "            with open(label_path, 'r') as f:\n",
    "                curr_label = json.load(f) \n",
    "            \n",
    "            curr_bbox = curr_label['shapes'][0]['points']\n",
    "            bbox_coords[0] = curr_bbox[0][0]\n",
    "            bbox_coords[1] = curr_bbox[0][1]\n",
    "            bbox_coords[2] = curr_bbox[1][0]\n",
    "            bbox_coords[3] = curr_bbox[1][1]\n",
    "            bbox_coords = list(np.divide(bbox_coords, [640, 480, 640, 480]))\n",
    "        \n",
    "        try:\n",
    "            for x in range(IMAGE_PER_BASE_IMAGE):\n",
    "\n",
    "                transformed = transformer(image = curr_img, bboxes = [bbox_coords], class_labels = ['face'])\n",
    "                cv2.imwrite(os.path.join('augmented_data', folder, 'images', f'{image.split(\".\")[0]}.{x}.jpg'), transformed['image'])\n",
    "\n",
    "                label_annotation = {}\n",
    "                label_annotation['image'] = image \n",
    "\n",
    "                if os.path.exists(label_path):\n",
    "                    if len(transformed['bboxes']) == 0:\n",
    "                        label_annotation['bbox'] = [0, 0, 0, 0]\n",
    "                        label_annotation['class'] = 0\n",
    "                    else:\n",
    "                        label_annotation['bbox'] = transformed['bboxes'][0]\n",
    "                        label_annotation['class'] = 1 \n",
    "                else:\n",
    "                    label_annotation['bbox'] = [0, 0, 0, 0]\n",
    "                    label_annotation['class'] = 0\n",
    "                \n",
    "                with open(os.path.join('augmented_data', folder, 'labels', f'{image.split(\".\")[0]}.{x}.json'), 'w') as f:\n",
    "                    json.dump(label_annotation, f)\n",
    "\n",
    "        except Exception as e:\n",
    "            print(e)"
   ]
  },
  {
   "cell_type": "code",
   "execution_count": 6,
   "metadata": {},
   "outputs": [],
   "source": [
    "def load_image(x):\n",
    "    byte_image = tf.io.read_file(x)\n",
    "    img = tf.io.decode_jpeg(byte_image)\n",
    "    return img"
   ]
  },
  {
   "cell_type": "code",
   "execution_count": 7,
   "metadata": {},
   "outputs": [],
   "source": [
    "def load_label(label_path):\n",
    "    with open(label_path.numpy(), 'r', encoding = 'utf-8') as f:\n",
    "        label = json.load(f)\n",
    "    return [label['class']], label['bbox']"
   ]
  },
  {
   "attachments": {},
   "cell_type": "markdown",
   "metadata": {},
   "source": [
    "# Load Data Into Tensorflow Dataset\n"
   ]
  },
  {
   "cell_type": "code",
   "execution_count": 8,
   "metadata": {},
   "outputs": [],
   "source": [
    "train_images = tf.data.Dataset.list_files('augmented_data\\\\train\\\\images\\\\*.jpg', shuffle = False)\n",
    "train_images = train_images.map(load_image)\n",
    "train_images = train_images.map(lambda x : tf.image.resize(x, (120, 120)))\n",
    "train_images = train_images.map(lambda x : x / 255)\n",
    "\n",
    "val_images = tf.data.Dataset.list_files('augmented_data\\\\val\\\\images\\\\*.jpg', shuffle = False)\n",
    "val_images = val_images.map(load_image)\n",
    "val_images = val_images.map(lambda x : tf.image.resize(x, (120, 120)))\n",
    "val_images = val_images.map(lambda x : x / 255)\n",
    "\n",
    "test_images = tf.data.Dataset.list_files('augmented_data\\\\test\\\\images\\\\*.jpg', shuffle = False)\n",
    "test_images = test_images.map(load_image)\n",
    "test_images = test_images.map(lambda x : tf.image.resize(x, (120, 120)))\n",
    "test_images = test_images.map(lambda x : x / 255)"
   ]
  },
  {
   "attachments": {},
   "cell_type": "markdown",
   "metadata": {},
   "source": [
    "# Load Labels Into Tensorflow Dataset\n"
   ]
  },
  {
   "cell_type": "code",
   "execution_count": 9,
   "metadata": {},
   "outputs": [],
   "source": [
    "train_labels = tf.data.Dataset.list_files('augmented_data\\\\train\\\\labels\\\\*.json', shuffle = False)\n",
    "train_labels = train_labels.map(lambda x : tf.py_function(load_label, [x], [tf.uint8, tf.float16]))\n",
    "\n",
    "val_labels = tf.data.Dataset.list_files('augmented_data\\\\val\\\\labels\\\\*.json', shuffle = False)\n",
    "val_labels = val_labels.map(lambda x : tf.py_function(load_label, [x], [tf.uint8, tf.float16]))\n",
    "\n",
    "test_labels = tf.data.Dataset.list_files('augmented_data\\\\test\\\\labels\\\\*.json', shuffle = False)\n",
    "test_labels = test_labels.map(lambda x : tf.py_function(load_label, [x], [tf.uint8, tf.float16]))"
   ]
  },
  {
   "attachments": {},
   "cell_type": "markdown",
   "metadata": {},
   "source": [
    "# Combine Image and Label Data"
   ]
  },
  {
   "cell_type": "code",
   "execution_count": 11,
   "metadata": {},
   "outputs": [
    {
     "name": "stdout",
     "output_type": "stream",
     "text": [
      "Train | Images: 4900  Labels: 4900\n",
      "Val   | Images: 1050  Labels: 1050\n",
      "Test  | Images: 1050  Labels: 1050\n"
     ]
    }
   ],
   "source": [
    "# check partition sizes \n",
    "print(f'Train | Images: {len(train_images)}  Labels: {len(train_labels)}')\n",
    "print(f'Val   | Images: {len(val_images)}  Labels: {len(val_labels)}')\n",
    "print(f'Test  | Images: {len(test_images)}  Labels: {len(test_labels)}')"
   ]
  },
  {
   "cell_type": "code",
   "execution_count": 12,
   "metadata": {},
   "outputs": [],
   "source": [
    "train = tf.data.Dataset.zip((train_images, train_labels))\n",
    "train = train.shuffle(5000)\n",
    "train = train.batch(8)\n",
    "train = train.prefetch(4)\n",
    "\n",
    "val = tf.data.Dataset.zip((val_images, val_labels))\n",
    "val = val.shuffle(1100)\n",
    "val = val.batch(8)\n",
    "val = val.prefetch(4)\n",
    "\n",
    "test = tf.data.Dataset.zip((test_images, test_labels))\n",
    "test = test.shuffle(1100)\n",
    "test = test.batch(8)\n",
    "test = test.prefetch(4)"
   ]
  },
  {
   "attachments": {},
   "cell_type": "markdown",
   "metadata": {},
   "source": [
    "# Peak at Dataset"
   ]
  },
  {
   "cell_type": "code",
   "execution_count": 21,
   "metadata": {},
   "outputs": [
    {
     "data": {
      "text/plain": [
       "(8, 120, 120, 3)"
      ]
     },
     "execution_count": 21,
     "metadata": {},
     "output_type": "execute_result"
    }
   ],
   "source": [
    "train.as_numpy_iterator().next()[0].shape"
   ]
  },
  {
   "cell_type": "code",
   "execution_count": null,
   "metadata": {},
   "outputs": [],
   "source": [
    "test_samples = train.as_numpy_iterator()\n",
    "next = test_samples.next()\n",
    "fig, ax = plt.subplots(ncols = 4, figsize = (20, 20))\n",
    "for idx in range(4):\n",
    "    curr_image = next[0][idx]\n",
    "    curr_bbox = next[1][1][idx]\n",
    "    cv2.rectangle(\n",
    "        curr_image, \n",
    "        tuple(np.multiply(curr_bbox[:2], [120, 120]).astype(int)),\n",
    "        tuple(np.multiply(curr_bbox[2:], [120, 120]).astype(int)),\n",
    "        (255, 0, 0),\n",
    "        2)\n",
    "    ax[idx].imshow(curr_image)"
   ]
  },
  {
   "attachments": {},
   "cell_type": "markdown",
   "metadata": {},
   "source": [
    "# Optimizer"
   ]
  },
  {
   "cell_type": "code",
   "execution_count": 51,
   "metadata": {},
   "outputs": [],
   "source": [
    "# set the optimizer \n",
    "\n",
    "batches_per_epoch = len(train)\n",
    "# initial learning rate \n",
    "learning_rate = 0.0001\n",
    "# learning rate decay; to avoid overfitting, we should decrease the learning rate as we train \n",
    "lr_decay = (1 / 0.7 - 1) / batches_per_epoch\n",
    "\n",
    "\n",
    "optimizer = tf.keras.optimizers.Adam(learning_rate = learning_rate, decay = lr_decay)"
   ]
  },
  {
   "attachments": {},
   "cell_type": "markdown",
   "metadata": {},
   "source": [
    "# Loss Functions \n",
    "\n",
    "Need separate loss metrics for the classificaiton output and the regression output. "
   ]
  },
  {
   "cell_type": "code",
   "execution_count": 53,
   "metadata": {},
   "outputs": [],
   "source": [
    "# binary cross entropy loss for the classificaiton outputs \n",
    "classification_loss = tf.keras.losses.BinaryCrossentropy()"
   ]
  },
  {
   "attachments": {},
   "cell_type": "markdown",
   "metadata": {},
   "source": [
    "![yolo-loss](https://github.com/seankim658/TF-Face-Detection/blob/master/reference_images/yolo_loss_function.png?raw=true)    \n",
    "\n",
    "Manually implementing localization loss based off the Yolo loss function. The first and second terms are used for localization loss. The first term calculates the loss of the center of the predicted bounding box. The second term calculates the loss of the height and width predictions for the bounding box. \n",
    "\n",
    "Since we are using albumentations annotation format instead of the yolo format, we will calculate the loss for the predicted (x_min, y_min) point (as opposed to the center of the bounding box)."
   ]
  },
  {
   "cell_type": "code",
   "execution_count": null,
   "metadata": {},
   "outputs": [],
   "source": [
    "# create localization loss for regression outputs \n",
    "def localization_loss(y_true, y_hat):\n",
    "    \n",
    "    center_loss = tf.reduce_sum(tf.square(y_true[:,:2] - y_hat[:,:2]))\n",
    "    \n",
    "    height_true = y_true[:,3] - y_true[:,1]\n",
    "    width_true = y_true[:,2] - y_true[:,0]\n",
    "\n",
    "    height_pred = y_hat[:,3] - y_hat[:,1]\n",
    "    width_pred = y_hat[:,2] - y_hat[:,0]\n",
    "\n",
    "    height_width_loss = tf.reduce_sum(tf.square(tf.sqrt(width_true) - tf.sqrt(width_pred)) + tf.square(tf.sqrt(height_true) - tf.sqrt(height_pred)))\n",
    "\n",
    "    return center_loss + height_width_loss "
   ]
  },
  {
   "attachments": {},
   "cell_type": "markdown",
   "metadata": {},
   "source": [
    "# Build the Model Using VGG16 as a Base\n",
    "Leveraging the Keras Functional API for multiple outputs."
   ]
  },
  {
   "cell_type": "code",
   "execution_count": 44,
   "metadata": {},
   "outputs": [],
   "source": [
    "def build_model():\n",
    "    input_layer = Input(shape = (120, 120, 3))\n",
    "\n",
    "    vgg = VGG16(include_top = False)(input_layer)\n",
    "\n",
    "    # classification layers (face detection)\n",
    "    class_pool = GlobalMaxPooling2D()(vgg)\n",
    "    classification_layer1 = Dense(2048, activation = 'relu')(class_pool)\n",
    "    classification_layer2 = Dense(1, activation = 'sigmoid')(classification_layer1)\n",
    "\n",
    "    # regression layers (bounding box prediction)\n",
    "    regress_pool = GlobalMaxPooling2D()(vgg)\n",
    "    regression_layer1 = Dense(2048, activation = 'relu')(regress_pool)\n",
    "    regression_layer2 = Dense(4, activation = 'sigmoid')(regression_layer1)\n",
    "\n",
    "    face_detection_model = Model(inputs = input_layer, outputs = [classification_layer2, regression_layer2])\n",
    "    \n",
    "    return face_detection_model "
   ]
  },
  {
   "cell_type": "code",
   "execution_count": 46,
   "metadata": {},
   "outputs": [
    {
     "name": "stdout",
     "output_type": "stream",
     "text": [
      "Model: \"model_1\"\n",
      "__________________________________________________________________________________________________\n",
      " Layer (type)                   Output Shape         Param #     Connected to                     \n",
      "==================================================================================================\n",
      " input_6 (InputLayer)           [(None, 120, 120, 3  0           []                               \n",
      "                                )]                                                                \n",
      "                                                                                                  \n",
      " vgg16 (Functional)             (None, None, None,   14714688    ['input_6[0][0]']                \n",
      "                                512)                                                              \n",
      "                                                                                                  \n",
      " global_max_pooling2d_4 (Global  (None, 512)         0           ['vgg16[0][0]']                  \n",
      " MaxPooling2D)                                                                                    \n",
      "                                                                                                  \n",
      " global_max_pooling2d_5 (Global  (None, 512)         0           ['vgg16[0][0]']                  \n",
      " MaxPooling2D)                                                                                    \n",
      "                                                                                                  \n",
      " dense_8 (Dense)                (None, 2048)         1050624     ['global_max_pooling2d_4[0][0]'] \n",
      "                                                                                                  \n",
      " dense_10 (Dense)               (None, 2048)         1050624     ['global_max_pooling2d_5[0][0]'] \n",
      "                                                                                                  \n",
      " dense_9 (Dense)                (None, 1)            2049        ['dense_8[0][0]']                \n",
      "                                                                                                  \n",
      " dense_11 (Dense)               (None, 4)            8196        ['dense_10[0][0]']               \n",
      "                                                                                                  \n",
      "==================================================================================================\n",
      "Total params: 16,826,181\n",
      "Trainable params: 16,826,181\n",
      "Non-trainable params: 0\n",
      "__________________________________________________________________________________________________\n"
     ]
    }
   ],
   "source": [
    "face_detection_model = build_model() \n",
    "face_detection_model.summary()"
   ]
  },
  {
   "attachments": {},
   "cell_type": "markdown",
   "metadata": {},
   "source": [
    "# Test Untrained Raw Model "
   ]
  },
  {
   "cell_type": "code",
   "execution_count": 47,
   "metadata": {},
   "outputs": [
    {
     "data": {
      "text/plain": [
       "(8, 120, 120, 3)"
      ]
     },
     "execution_count": 47,
     "metadata": {},
     "output_type": "execute_result"
    }
   ],
   "source": [
    "x, y = train.as_numpy_iterator().next()\n",
    "x.shape"
   ]
  },
  {
   "cell_type": "code",
   "execution_count": 48,
   "metadata": {},
   "outputs": [
    {
     "name": "stdout",
     "output_type": "stream",
     "text": [
      "1/1 [==============================] - 10s 10s/step\n"
     ]
    },
    {
     "data": {
      "text/plain": [
       "(array([[0.7379029],\n",
       "        [0.6986535],\n",
       "        [0.6441896],\n",
       "        [0.6786071],\n",
       "        [0.7284374],\n",
       "        [0.7577769],\n",
       "        [0.7057782],\n",
       "        [0.7204981]], dtype=float32),\n",
       " array([[0.61168617, 0.34619397, 0.476629  , 0.5793769 ],\n",
       "        [0.5433351 , 0.41477627, 0.51394147, 0.6046502 ],\n",
       "        [0.54770535, 0.35949832, 0.4541248 , 0.6075268 ],\n",
       "        [0.4904624 , 0.38286984, 0.5469115 , 0.50725436],\n",
       "        [0.5158201 , 0.3615873 , 0.49655503, 0.5897279 ],\n",
       "        [0.52531457, 0.3338016 , 0.42379096, 0.5587681 ],\n",
       "        [0.49996543, 0.3583798 , 0.5209515 , 0.46518523],\n",
       "        [0.47593698, 0.39542717, 0.5251019 , 0.5326797 ]], dtype=float32))"
      ]
     },
     "execution_count": 48,
     "metadata": {},
     "output_type": "execute_result"
    }
   ],
   "source": [
    "face_preds, bbox_preds = face_detection_model.predict(x)\n",
    "face_preds, bbox_preds"
   ]
  },
  {
   "cell_type": "code",
   "execution_count": 49,
   "metadata": {},
   "outputs": [
    {
     "data": {
      "text/plain": [
       "(array([[0],\n",
       "        [1],\n",
       "        [0],\n",
       "        [1],\n",
       "        [1],\n",
       "        [1],\n",
       "        [1],\n",
       "        [1]], dtype=uint8),\n",
       " array([[0.      , 0.      , 0.      , 0.      ],\n",
       "        [0.822   , 0.3047  , 0.984   , 0.506   ],\n",
       "        [0.      , 0.      , 0.      , 0.      ],\n",
       "        [0.      , 0.      , 0.3591  , 0.5923  ],\n",
       "        [0.403   , 0.      , 0.7256  , 0.4192  ],\n",
       "        [0.2141  , 0.118   , 0.429   , 0.3706  ],\n",
       "        [0.07477 , 0.3652  , 0.253   , 0.5483  ],\n",
       "        [0.7607  , 0.003906, 1.      , 0.628   ]], dtype=float16))"
      ]
     },
     "execution_count": 49,
     "metadata": {},
     "output_type": "execute_result"
    }
   ],
   "source": [
    "y"
   ]
  },
  {
   "cell_type": "code",
   "execution_count": null,
   "metadata": {},
   "outputs": [],
   "source": [
    "localization_loss(y[1], bbox_preds)"
   ]
  },
  {
   "cell_type": "code",
   "execution_count": null,
   "metadata": {},
   "outputs": [],
   "source": [
    "classification_loss(y[0], face_preds)"
   ]
  },
  {
   "attachments": {},
   "cell_type": "markdown",
   "metadata": {},
   "source": [
    "# Train Model"
   ]
  },
  {
   "cell_type": "code",
   "execution_count": null,
   "metadata": {},
   "outputs": [],
   "source": [
    "# training pipeline \n",
    "\n",
    "class FaceDetection(Model):\n",
    "    '''\n",
    "    Training pipeline. \n",
    "\n",
    "    Attributes\n",
    "    ----------\n",
    "    model : keras model \n",
    "        Model to be trained. \n",
    "    **kwargs : arbitrary keyword arguments \n",
    "    '''\n",
    "\n",
    "    def __init__(self, model, **kwargs):\n",
    "        ''' Constructor. \n",
    "        '''\n",
    "        super().__init__(**kwargs)\n",
    "        self.model = model \n",
    "    \n",
    "    def compile(self, optimizer, classification_loss, localization_loss, **kwargs):\n",
    "        ''' Compile function required by Keras subclassing API. \n",
    "\n",
    "        Parameters\n",
    "        ----------\n",
    "        optimizer : tensorflow.keras.optimizers.Optimizer \n",
    "            Optimizer to minimize the loss function. \n",
    "        classification_loss : function \n",
    "            Loss fucntion to use for the classification output. \n",
    "        localization_loss : function \n",
    "            Loss function to use for the bounding box predictions. \n",
    "        **kwargs : arbitrary keyword arguments\n",
    "        '''\n",
    "        super().compile(**kwargs)\n",
    "        self.classification_loss = classification_loss\n",
    "        self.localization_loss = localization_loss \n",
    "        self.optimizer = optimizer \n",
    "    \n",
    "    def call(self, x, **kwargs):\n",
    "        ''' Override call() from base Model class. \n",
    "\n",
    "        Parameters\n",
    "        ----------\n",
    "        x : tf.Tensor \n",
    "            Input data. \n",
    "        **kwargs : arbitrary keyword arguments \n",
    "        '''\n",
    "        return self.model(x, **kwargs)\n",
    "\n",
    "    def train_step(self, batch, **kwargs):\n",
    "        ''' Override train_step() from base Model class.  \n",
    "\n",
    "        Parameters \n",
    "        ----------\n",
    "        batch : \n",
    "        '''\n",
    "        x, y = batch \n",
    "    \n",
    "    def test_step(self, batch, **kwargs):\n",
    "        ''' Override test_step() from base Model class. \n",
    "\n",
    "        Parameters \n",
    "        ----------\n",
    "        batch : \n",
    "        '''\n",
    "        x, y = batch "
   ]
  }
 ],
 "metadata": {
  "kernelspec": {
   "display_name": "Python 3",
   "language": "python",
   "name": "python3"
  },
  "language_info": {
   "codemirror_mode": {
    "name": "ipython",
    "version": 3
   },
   "file_extension": ".py",
   "mimetype": "text/x-python",
   "name": "python",
   "nbconvert_exporter": "python",
   "pygments_lexer": "ipython3",
   "version": "3.10.4"
  },
  "orig_nbformat": 4,
  "vscode": {
   "interpreter": {
    "hash": "ceef1a46cfa3b06e9010394384246b59e3f265d9615fd587d71bdb8901dad775"
   }
  }
 },
 "nbformat": 4,
 "nbformat_minor": 2
}
